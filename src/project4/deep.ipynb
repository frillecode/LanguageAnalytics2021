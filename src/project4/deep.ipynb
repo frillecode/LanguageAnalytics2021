{
 "cells": [
  {
   "cell_type": "code",
   "execution_count": 1,
   "metadata": {},
   "outputs": [],
   "source": [
    "# system tools\n",
    "import os\n",
    "import sys\n",
    "sys.path.append(os.path.join(\"..\", \"..\"))\n",
    "\n",
    "# data munging tools\n",
    "import pandas as pd\n",
    "import numpy as np\n",
    "import utils.classifier_utils as clf\n",
    "\n",
    "# Machine learning stuff\n",
    "from sklearn.preprocessing import LabelBinarizer\n",
    "from sklearn.pipeline import make_pipeline\n",
    "from sklearn.preprocessing import MaxAbsScaler\n",
    "from sklearn.model_selection import train_test_split\n",
    "from sklearn.feature_extraction.text import CountVectorizer, TfidfVectorizer\n",
    "from sklearn.linear_model import LogisticRegression\n",
    "from sklearn.model_selection import ShuffleSplit\n",
    "from sklearn import metrics\n",
    "\n",
    "# tools from tensorflow\n",
    "import tensorflow as tf\n",
    "from tensorflow.keras.models import Sequential\n",
    "from tensorflow.keras.layers import (Dense, Embedding, \n",
    "                                     Flatten, GlobalMaxPool1D, Conv1D)\n",
    "from tensorflow.keras.optimizers import SGD, Adam\n",
    "from tensorflow.keras import backend as K\n",
    "from tensorflow.keras.utils import plot_model\n",
    "from tensorflow.keras.preprocessing.text import Tokenizer\n",
    "from tensorflow.keras.preprocessing.sequence import pad_sequences\n",
    "from tensorflow.keras.regularizers import L2\n",
    "from tensorflow.keras.utils import to_categorical\n",
    "\n",
    "# Visualisation\n",
    "import matplotlib.pyplot as plt\n",
    "import seaborn as sns"
   ]
  },
  {
   "cell_type": "code",
   "execution_count": 2,
   "metadata": {},
   "outputs": [],
   "source": [
    "def plot_history(H, epochs):\n",
    "    \"\"\"\n",
    "    Utility function for plotting model history using matplotlib\n",
    "    \n",
    "    H: model history \n",
    "    epochs: number of epochs for which the model was trained\n",
    "    \"\"\"\n",
    "    plt.style.use(\"fivethirtyeight\")\n",
    "    plt.figure()\n",
    "    plt.plot(np.arange(0, epochs), H.history[\"loss\"], label=\"train_loss\")\n",
    "    plt.plot(np.arange(0, epochs), H.history[\"val_loss\"], label=\"val_loss\")\n",
    "    plt.plot(np.arange(0, epochs), H.history[\"accuracy\"], label=\"train_acc\")\n",
    "    plt.plot(np.arange(0, epochs), H.history[\"val_accuracy\"], label=\"val_acc\")\n",
    "    plt.title(\"Training Loss and Accuracy\")\n",
    "    plt.xlabel(\"Epoch #\")\n",
    "    plt.ylabel(\"Loss/Accuracy\")\n",
    "    plt.legend()\n",
    "    plt.tight_layout()\n",
    "    plt.show()\n",
    "    \n",
    "\n",
    "def create_embedding_matrix(filepath, word_index, embedding_dim):\n",
    "    \"\"\" \n",
    "    A helper function to read in saved GloVe embeddings and create an embedding matrix\n",
    "    \n",
    "    filepath: path to GloVe embedding\n",
    "    word_index: indices from keras Tokenizer\n",
    "    embedding_dim: dimensions of keras embedding layer\n",
    "    \"\"\"\n",
    "    vocab_size = len(word_index) + 1  # Adding again 1 because of reserved 0 index\n",
    "    embedding_matrix = np.zeros((vocab_size, embedding_dim))\n",
    "\n",
    "    with open(filepath) as f:\n",
    "        for line in f:\n",
    "            word, *vector = line.split()\n",
    "            if word in word_index:\n",
    "                idx = word_index[word] \n",
    "                embedding_matrix[idx] = np.array(\n",
    "                    vector, dtype=np.float32)[:embedding_dim]\n",
    "\n",
    "    return embedding_matrix"
   ]
  },
  {
   "cell_type": "code",
   "execution_count": 3,
   "metadata": {},
   "outputs": [],
   "source": [
    "filename = os.path.join(\"..\", \"..\", \"data\", \"assignment6\", \"Game_of_Thrones_Script.csv\")\n",
    "\n",
    "DATA = pd.read_csv(filename)"
   ]
  },
  {
   "cell_type": "code",
   "execution_count": 4,
   "metadata": {},
   "outputs": [],
   "source": [
    "sentences = DATA[\"Sentence\"].values\n",
    "labels = DATA[\"Season\"].values"
   ]
  },
  {
   "cell_type": "code",
   "execution_count": 5,
   "metadata": {},
   "outputs": [],
   "source": [
    "X_train, X_test, y_train, y_test = train_test_split(sentences,       # texts for the model\n",
    "                                                    labels,          # classification labels\n",
    "                                                    test_size=0.2,   # create an 80/20 split\n",
    "                                                    random_state=42) # random state for reproducibility"
   ]
  },
  {
   "cell_type": "code",
   "execution_count": 6,
   "metadata": {},
   "outputs": [],
   "source": [
    "lb = LabelBinarizer()\n",
    "y_train = lb.fit_transform(y_train)\n",
    "y_test = lb.fit_transform(y_test)"
   ]
  },
  {
   "cell_type": "code",
   "execution_count": 7,
   "metadata": {},
   "outputs": [
    {
     "name": "stdout",
     "output_type": "stream",
     "text": [
      "Will there be pain?\n",
      "[27, 66, 21, 920]\n"
     ]
    }
   ],
   "source": [
    "# initialize tokenizer\n",
    "tokenizer = Tokenizer(num_words=None)\n",
    "\n",
    "# fit to training data\n",
    "tokenizer.fit_on_texts(X_train)\n",
    "\n",
    "# tokenized training and test data\n",
    "X_train_toks = tokenizer.texts_to_sequences(X_train)\n",
    "X_test_toks = tokenizer.texts_to_sequences(X_test)\n",
    "\n",
    "# overall vocabulary size\n",
    "vocab_size = len(tokenizer.word_index) + 1  # Adding 1 because of reserved 0 index\n",
    "\n",
    "# inspect\n",
    "print(X_train[1])\n",
    "print(X_train_toks[1])"
   ]
  },
  {
   "cell_type": "code",
   "execution_count": 8,
   "metadata": {},
   "outputs": [],
   "source": [
    "# max length for a doc\n",
    "maxlen = max([len(x) for x in X_train]) #max length of sentences\n",
    "\n",
    "# pad training data to maxlen\n",
    "X_train_pad = pad_sequences(X_train_toks, \n",
    "                            padding='post', # sequences can be padded \"pre\" or \"post\" (post means adding 0s to the end of the sequence)\n",
    "                            maxlen=maxlen)\n",
    "# pad testing data to maxlen\n",
    "X_test_pad = pad_sequences(X_test_toks, \n",
    "                           padding='post', \n",
    "                           maxlen=maxlen)"
   ]
  },
  {
   "cell_type": "code",
   "execution_count": 9,
   "metadata": {},
   "outputs": [],
   "source": [
    "#!wget http://nlp.stanford.edu/data/glove.6B.zip\n",
    "#!unzip -q glove.6B.zip"
   ]
  },
  {
   "cell_type": "code",
   "execution_count": 11,
   "metadata": {},
   "outputs": [],
   "source": [
    "# define embedding size we want to work with\n",
    "embedding_dim = 50 \n",
    "\n",
    "embedding_matrix = create_embedding_matrix(os.path.join(\"..\", \"..\", \"data\", \"assignment6\", \"glove\", \"glove.6B.50d.txt\"),\n",
    "                                           tokenizer.word_index, \n",
    "                                           embedding_dim)"
   ]
  },
  {
   "cell_type": "code",
   "execution_count": 12,
   "metadata": {
    "scrolled": true
   },
   "outputs": [
    {
     "name": "stdout",
     "output_type": "stream",
     "text": [
      "Model: \"sequential\"\n",
      "_________________________________________________________________\n",
      "Layer (type)                 Output Shape              Param #   \n",
      "=================================================================\n",
      "embedding (Embedding)        (None, 1696, 50)          459050    \n",
      "_________________________________________________________________\n",
      "conv1d (Conv1D)              (None, 1692, 128)         32128     \n",
      "_________________________________________________________________\n",
      "global_max_pooling1d (Global (None, 128)               0         \n",
      "_________________________________________________________________\n",
      "dense (Dense)                (None, 48)                6192      \n",
      "_________________________________________________________________\n",
      "dense_1 (Dense)              (None, 8)                 392       \n",
      "=================================================================\n",
      "Total params: 497,762\n",
      "Trainable params: 38,712\n",
      "Non-trainable params: 459,050\n",
      "_________________________________________________________________\n"
     ]
    }
   ],
   "source": [
    "# initialize Sequential model\n",
    "model = Sequential()\n",
    "\n",
    "# add Embedding layer\n",
    "model.add(Embedding(input_dim=vocab_size,       # vocab size from Tokenizer()\n",
    "                    output_dim=embedding_dim,   # user defined embedding size\n",
    "                    input_length=maxlen,        # maxlen of padded docs \n",
    "                    weights=[embedding_matrix], # pretrained GloVe weights\n",
    "                    trainable=False))           # embeddings are static - not trainable\n",
    "\n",
    "# CONV+ReLU -> MaxPool -> FC+ReLU -> Out\n",
    "model.add(Conv1D(128, 5, \n",
    "                activation='relu'))\n",
    "\n",
    "## add Flatten layer\n",
    "#model.add(Flatten())\n",
    "# MaxPool replaces Flatten layer\n",
    "model.add(GlobalMaxPool1D())\n",
    "\n",
    "\n",
    "# Add Dense layer; 10 neurons; ReLU activation\n",
    "model.add(Dense(48, \n",
    "                activation='relu'))\n",
    "\n",
    "# Add prediction node; 1 node with sigmoid; approximates Logistic Regression\n",
    "model.add(Dense(8, \n",
    "                activation='softmax'))\n",
    "\n",
    "# compile model\n",
    "model.compile(loss='categorical_crossentropy',\n",
    "              optimizer='adam',\n",
    "              metrics=['accuracy'])\n",
    "\n",
    "# print summary\n",
    "model.summary()"
   ]
  },
  {
   "cell_type": "code",
   "execution_count": 13,
   "metadata": {},
   "outputs": [],
   "source": [
    "history = model.fit(X_train_pad, y_train,\n",
    "                    epochs=20,\n",
    "                    verbose=False,\n",
    "                    validation_data=(X_test_pad, y_test),\n",
    "                    batch_size=10)"
   ]
  },
  {
   "cell_type": "code",
   "execution_count": 14,
   "metadata": {},
   "outputs": [
    {
     "name": "stdout",
     "output_type": "stream",
     "text": [
      "Training Accuracy: 0.7822\n",
      "Testing Accuracy:  0.1783\n"
     ]
    },
    {
     "data": {
      "image/png": "[encoded data removed]",
      "text/plain": [
       "<Figure size 432x288 with 1 Axes>"
      ]
     },
     "metadata": {},
     "output_type": "display_data"
    }
   ],
   "source": [
    "history = model.fit(X_train_pad, y_train,\n",
    "                    epochs=50,\n",
    "                    verbose=False,\n",
    "                    validation_data=(X_test_pad, y_test),\n",
    "                    batch_size=10)\n",
    "\n",
    "# evaluate \n",
    "loss, accuracy = model.evaluate(X_train_pad, y_train, verbose=False)\n",
    "print(\"Training Accuracy: {:.4f}\".format(accuracy))\n",
    "loss, accuracy = model.evaluate(X_test_pad, y_test, verbose=False)\n",
    "print(\"Testing Accuracy:  {:.4f}\".format(accuracy))\n",
    "\n",
    "# plot\n",
    "plot_history(history, epochs = 50)"
   ]
  },
  {
   "cell_type": "code",
   "execution_count": null,
   "metadata": {},
   "outputs": [],
   "source": []
  }
 ],
 "metadata": {
  "kernelspec": {
   "display_name": "frille-lang",
   "language": "python",
   "name": "frille-lang"
  },
  "language_info": {
   "codemirror_mode": {
    "name": "ipython",
    "version": 3
   },
   "file_extension": ".py",
   "mimetype": "text/x-python",
   "name": "python",
   "nbconvert_exporter": "python",
   "pygments_lexer": "ipython3",
   "version": "3.6.9"
  }
 },
 "nbformat": 4,
 "nbformat_minor": 4
}
